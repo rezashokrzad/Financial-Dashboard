{
  "nbformat": 4,
  "nbformat_minor": 0,
  "metadata": {
    "colab": {
      "provenance": []
    },
    "kernelspec": {
      "name": "python3",
      "display_name": "Python 3"
    },
    "language_info": {
      "name": "python"
    }
  },
  "cells": [
    {
      "cell_type": "code",
      "execution_count": 1,
      "metadata": {
        "colab": {
          "base_uri": "https://localhost:8080/"
        },
        "id": "Z7g5lfObcn8Q",
        "outputId": "19596eb1-890b-4b73-97dc-be194d1d4879"
      },
      "outputs": [
        {
          "output_type": "stream",
          "name": "stdout",
          "text": [
            "Collecting dash\n",
            "  Downloading dash-2.18.0-py3-none-any.whl.metadata (10 kB)\n",
            "Requirement already satisfied: Flask<3.1,>=1.0.4 in /usr/local/lib/python3.10/dist-packages (from dash) (2.2.5)\n",
            "Requirement already satisfied: Werkzeug<3.1 in /usr/local/lib/python3.10/dist-packages (from dash) (3.0.4)\n",
            "Requirement already satisfied: plotly>=5.0.0 in /usr/local/lib/python3.10/dist-packages (from dash) (5.15.0)\n",
            "Collecting dash-html-components==2.0.0 (from dash)\n",
            "  Downloading dash_html_components-2.0.0-py3-none-any.whl.metadata (3.8 kB)\n",
            "Collecting dash-core-components==2.0.0 (from dash)\n",
            "  Downloading dash_core_components-2.0.0-py3-none-any.whl.metadata (2.9 kB)\n",
            "Collecting dash-table==5.0.0 (from dash)\n",
            "  Downloading dash_table-5.0.0-py3-none-any.whl.metadata (2.4 kB)\n",
            "Requirement already satisfied: importlib-metadata in /usr/local/lib/python3.10/dist-packages (from dash) (8.4.0)\n",
            "Requirement already satisfied: typing-extensions>=4.1.1 in /usr/local/lib/python3.10/dist-packages (from dash) (4.12.2)\n",
            "Requirement already satisfied: requests in /usr/local/lib/python3.10/dist-packages (from dash) (2.32.3)\n",
            "Collecting retrying (from dash)\n",
            "  Downloading retrying-1.3.4-py3-none-any.whl.metadata (6.9 kB)\n",
            "Requirement already satisfied: nest-asyncio in /usr/local/lib/python3.10/dist-packages (from dash) (1.6.0)\n",
            "Requirement already satisfied: setuptools in /usr/local/lib/python3.10/dist-packages (from dash) (71.0.4)\n",
            "Requirement already satisfied: Jinja2>=3.0 in /usr/local/lib/python3.10/dist-packages (from Flask<3.1,>=1.0.4->dash) (3.1.4)\n",
            "Requirement already satisfied: itsdangerous>=2.0 in /usr/local/lib/python3.10/dist-packages (from Flask<3.1,>=1.0.4->dash) (2.2.0)\n",
            "Requirement already satisfied: click>=8.0 in /usr/local/lib/python3.10/dist-packages (from Flask<3.1,>=1.0.4->dash) (8.1.7)\n",
            "Requirement already satisfied: tenacity>=6.2.0 in /usr/local/lib/python3.10/dist-packages (from plotly>=5.0.0->dash) (9.0.0)\n",
            "Requirement already satisfied: packaging in /usr/local/lib/python3.10/dist-packages (from plotly>=5.0.0->dash) (24.1)\n",
            "Requirement already satisfied: MarkupSafe>=2.1.1 in /usr/local/lib/python3.10/dist-packages (from Werkzeug<3.1->dash) (2.1.5)\n",
            "Requirement already satisfied: zipp>=0.5 in /usr/local/lib/python3.10/dist-packages (from importlib-metadata->dash) (3.20.1)\n",
            "Requirement already satisfied: charset-normalizer<4,>=2 in /usr/local/lib/python3.10/dist-packages (from requests->dash) (3.3.2)\n",
            "Requirement already satisfied: idna<4,>=2.5 in /usr/local/lib/python3.10/dist-packages (from requests->dash) (3.8)\n",
            "Requirement already satisfied: urllib3<3,>=1.21.1 in /usr/local/lib/python3.10/dist-packages (from requests->dash) (2.0.7)\n",
            "Requirement already satisfied: certifi>=2017.4.17 in /usr/local/lib/python3.10/dist-packages (from requests->dash) (2024.7.4)\n",
            "Requirement already satisfied: six>=1.7.0 in /usr/local/lib/python3.10/dist-packages (from retrying->dash) (1.16.0)\n",
            "Downloading dash-2.18.0-py3-none-any.whl (7.5 MB)\n",
            "\u001b[2K   \u001b[90m━━━━━━━━━━━━━━━━━━━━━━━━━━━━━━━━━━━━━━━━\u001b[0m \u001b[32m7.5/7.5 MB\u001b[0m \u001b[31m18.0 MB/s\u001b[0m eta \u001b[36m0:00:00\u001b[0m\n",
            "\u001b[?25hDownloading dash_core_components-2.0.0-py3-none-any.whl (3.8 kB)\n",
            "Downloading dash_html_components-2.0.0-py3-none-any.whl (4.1 kB)\n",
            "Downloading dash_table-5.0.0-py3-none-any.whl (3.9 kB)\n",
            "Downloading retrying-1.3.4-py3-none-any.whl (11 kB)\n",
            "Installing collected packages: dash-table, dash-html-components, dash-core-components, retrying, dash\n",
            "Successfully installed dash-2.18.0 dash-core-components-2.0.0 dash-html-components-2.0.0 dash-table-5.0.0 retrying-1.3.4\n"
          ]
        }
      ],
      "source": [
        "!pip install dash\n"
      ]
    },
    {
      "cell_type": "code",
      "source": [
        "import dash\n",
        "from dash import dcc, html, Input, Output\n",
        "import plotly.express as px\n",
        "import yfinance as yf\n",
        "import pandas as pd\n",
        "\n",
        "# Define asset categories based on your grouping\n",
        "hardware_tickers = ['AAPL', 'NVDA', 'INTC']\n",
        "software_tickers = ['MSFT', 'ORCL', 'ADBE']\n",
        "digital_media_tickers = ['GOOGL', 'META', 'NFLX']\n",
        "crypto_tickers = ['BTC-USD', 'DOGE-USD', 'ETH-USD', 'SOL-USD', 'ADA-USD']\n",
        "\n",
        "tickers = hardware_tickers + software_tickers + digital_media_tickers + crypto_tickers\n",
        "\n",
        "# Download data from yfinance\n",
        "data = yf.download(tickers, period=\"5d\", interval=\"1d\")\n",
        "data = data.ffill().bfill()\n",
        "\n",
        "# Calculate percent change relative to the opening price of the previous day\n",
        "pct_change_open_close = (data['Adj Close'].iloc[-1] - data['Open'].iloc[-1]) / data['Open'].iloc[-1] * 100\n",
        "adj_close = data['Adj Close'].iloc[-1]\n",
        "\n",
        "# Create a DataFrame\n",
        "df = pd.DataFrame({\n",
        "    'Ticker': adj_close.index,\n",
        "    'Price': adj_close.values,\n",
        "    'Percent Change': pct_change_open_close.values\n",
        "})\n",
        "\n",
        "# Calculate market cap and add it to the DataFrame\n",
        "df['Market Cap'] = df['Ticker'].apply(lambda x: yf.Ticker(x).info.get('marketCap', 0))\n",
        "\n",
        "# Add sector information for each asset\n",
        "df['Sector'] = df['Ticker'].apply(lambda x: 'Hardware' if x in hardware_tickers else\n",
        "                                  'Software' if x in software_tickers else\n",
        "                                  'Digital Media' if x in digital_media_tickers else\n",
        "                                  'Cryptocurrency')\n",
        "\n",
        "# Initialize the Dash app\n",
        "app = dash.Dash(__name__)\n",
        "\n",
        "app.layout = html.Div([\n",
        "    dcc.Graph(id='treemap'),\n",
        "    html.Div(id='stock-details', style={\n",
        "        'backgroundColor': '#2d2d2d',\n",
        "        'color': 'white',\n",
        "        'padding': '20px',\n",
        "        'borderRadius': '10px',\n",
        "        'boxShadow': '2px 2px 10px rgba(0,0,0,0.3)',\n",
        "        'marginTop': '20px',\n",
        "        'fontFamily': 'Arial, sans-serif',\n",
        "        'display': 'flex',\n",
        "        'flexWrap': 'wrap',\n",
        "        'justifyContent': 'space-around'\n",
        "    })\n",
        "])\n",
        "\n",
        "# Define the callback to update the treemap\n",
        "@app.callback(\n",
        "    [Output('treemap', 'figure'),\n",
        "     Output('stock-details', 'children')],\n",
        "    [Input('treemap', 'clickData')]\n",
        ")\n",
        "def update_output(clickData):\n",
        "    # Create treemap using market cap as the size and display percent change in the center of each block\n",
        "    fig = px.treemap(df, path=['Sector', 'Ticker'], values='Market Cap',\n",
        "                     hover_data={'Price': ':.2f', 'Percent Change': ':.2f%', 'Market Cap': ':.2f'},\n",
        "                     color='Percent Change',\n",
        "                     color_continuous_scale='RdYlGn',\n",
        "                     title=\"Market Heatmap with Percent Change in Center\")\n",
        "\n",
        "    # Add percent change as text in the center of each block\n",
        "    fig.update_traces(texttemplate='%{label}<br>%{customdata[1]:.2f}%', textposition='middle center')\n",
        "\n",
        "    # Remove parent and id from the hover tooltip\n",
        "    fig.update_traces(hovertemplate='<b>%{label}</b><br>Market Cap: %{value}<br>Price: %{customdata[0]:.2f}<br>Percent Change: %{customdata[1]:.2f}%')\n",
        "\n",
        "    # Display stock details on click\n",
        "    if clickData:\n",
        "        ticker = clickData['points'][0]['label']\n",
        "        stock_info = yf.Ticker(ticker).info\n",
        "        details = [\n",
        "            html.Div(f\"{key.replace('_', ' ').title()}: {value}\", style={'margin': '10px', 'minWidth': '150px', 'textAlign': 'center', 'border': '1px solid #aaa', 'padding': '10px', 'borderRadius': '5px', 'boxShadow': '1px 1px 5px rgba(0,0,0,0.2)'})\n",
        "            for key, value in stock_info.items() if key in ['marketCap', 'trailingPE', 'forwardPE', 'trailingEps', 'dividendYield', 'beta', 'fiftyTwoWeekHigh', 'fiftyTwoWeekLow', 'volume']\n",
        "        ]\n",
        "        return fig, details\n",
        "\n",
        "    return fig, \"Click on an element to see details.\"\n",
        "\n",
        "# Run the server\n",
        "if __name__ == '__main__':\n",
        "    app.run_server(debug=True)\n"
      ],
      "metadata": {
        "colab": {
          "base_uri": "https://localhost:8080/",
          "height": 689
        },
        "id": "Iuzn1qGRdwbl",
        "outputId": "37c3cdde-b14c-4dc3-d9ed-7af8847748a4"
      },
      "execution_count": 4,
      "outputs": [
        {
          "output_type": "stream",
          "name": "stderr",
          "text": [
            "[*********************100%***********************]  14 of 14 completed\n"
          ]
        },
        {
          "output_type": "display_data",
          "data": {
            "text/plain": [
              "<IPython.core.display.Javascript object>"
            ],
            "application/javascript": [
              "(async (port, path, width, height, cache, element) => {\n",
              "    if (!google.colab.kernel.accessAllowed && !cache) {\n",
              "      return;\n",
              "    }\n",
              "    element.appendChild(document.createTextNode(''));\n",
              "    const url = await google.colab.kernel.proxyPort(port, {cache});\n",
              "    const iframe = document.createElement('iframe');\n",
              "    iframe.src = new URL(path, url).toString();\n",
              "    iframe.height = height;\n",
              "    iframe.width = width;\n",
              "    iframe.style.border = 0;\n",
              "    iframe.allow = [\n",
              "        'accelerometer',\n",
              "        'autoplay',\n",
              "        'camera',\n",
              "        'clipboard-read',\n",
              "        'clipboard-write',\n",
              "        'gyroscope',\n",
              "        'magnetometer',\n",
              "        'microphone',\n",
              "        'serial',\n",
              "        'usb',\n",
              "        'xr-spatial-tracking',\n",
              "    ].join('; ');\n",
              "    element.appendChild(iframe);\n",
              "  })(8050, \"/\", \"100%\", 650, false, window.element)"
            ]
          },
          "metadata": {}
        }
      ]
    }
  ]
}